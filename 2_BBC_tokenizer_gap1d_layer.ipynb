{
  "nbformat": 4,
  "nbformat_minor": 0,
  "metadata": {
    "colab": {
      "provenance": []
    },
    "kernelspec": {
      "name": "python3",
      "display_name": "Python 3"
    },
    "language_info": {
      "name": "python"
    }
  },
  "cells": [
    {
      "cell_type": "code",
      "execution_count": 1,
      "metadata": {
        "id": "tAxfqKu0DTID"
      },
      "outputs": [],
      "source": [
        "# Urutan untuk Proses Tokenisasi menggunakan Embedding dan Global Average Pooling 1D\n",
        "# 1. Import Library\n",
        "# 2. Unpack dataset (bila itu ZIP)\n",
        "# --- Preprocess Data ---\n",
        "# 3. Buat fungsi stopword\n",
        "# 4. Masukkan data ke dalam list dengan fungsi parse data from file\n",
        "# 5. Split data menjadi training dan validasi\n",
        "# --- Tokenisasi Proses ---\n",
        "# 6. Buat fungsi Tokenizer\n",
        "# 7. Buat fungsi Seq & Pad\n",
        "# 8. Buat fungsi tokenizer(khusus label)\n",
        "# --- Model ---\n",
        "# 9. Buat Model\n",
        "# 10. Fit Model"
      ]
    },
    {
      "cell_type": "code",
      "source": [
        "# Import Library\n",
        "import csv\n",
        "import io\n",
        "import tensorflow as tf\n",
        "import numpy as np\n",
        "import pandas as pd\n",
        "from tensorflow.keras.preprocessing.text import Tokenizer\n",
        "from tensorflow.keras.preprocessing.sequence import pad_sequences"
      ],
      "metadata": {
        "id": "lmDi1SSgEyQG"
      },
      "execution_count": 3,
      "outputs": []
    },
    {
      "cell_type": "code",
      "source": [
        "with open('bbc-text.csv', 'r') as csvfile:\n",
        "  print(f\"kalimat pertama {csvfile.readline()}\")\n",
        "  print(f\"kalimat pertama {csvfile.readline()}\")"
      ],
      "metadata": {
        "colab": {
          "base_uri": "https://localhost:8080/"
        },
        "id": "uU8UHKgMFCUG",
        "outputId": "d7ab5263-1970-41ed-859d-b6160f89e91b"
      },
      "execution_count": 6,
      "outputs": [
        {
          "output_type": "stream",
          "name": "stdout",
          "text": [
            "kalimat pertama category,text\n",
            "\n",
            "kalimat pertama tech,tv future in the hands of viewers with home theatre systems  plasma high-definition tvs  and digital video recorders moving into the living room  the way people watch tv will be radically different in five years  time.  that is according to an expert panel which gathered at the annual consumer electronics show in las vegas to discuss how these new technologies will impact one of our favourite pastimes. with the us leading the trend  programmes and other content will be delivered to viewers via home networks  through cable  satellite  telecoms companies  and broadband service providers to front rooms and portable devices.  one of the most talked-about technologies of ces has been digital and personal video recorders (dvr and pvr). these set-top boxes  like the us s tivo and the uk s sky+ system  allow people to record  store  play  pause and forward wind tv programmes when they want.  essentially  the technology allows for much more personalised tv. they are also being built-in to high-definition tv sets  which are big business in japan and the us  but slower to take off in europe because of the lack of high-definition programming. not only can people forward wind through adverts  they can also forget about abiding by network and channel schedules  putting together their own a-la-carte entertainment. but some us networks and cable and satellite companies are worried about what it means for them in terms of advertising revenues as well as  brand identity  and viewer loyalty to channels. although the us leads in this technology at the moment  it is also a concern that is being raised in europe  particularly with the growing uptake of services like sky+.  what happens here today  we will see in nine months to a years  time in the uk   adam hume  the bbc broadcast s futurologist told the bbc news website. for the likes of the bbc  there are no issues of lost advertising revenue yet. it is a more pressing issue at the moment for commercial uk broadcasters  but brand loyalty is important for everyone.  we will be talking more about content brands rather than network brands   said tim hanlon  from brand communications firm starcom mediavest.  the reality is that with broadband connections  anybody can be the producer of content.  he added:  the challenge now is that it is hard to promote a programme with so much choice.   what this means  said stacey jolna  senior vice president of tv guide tv group  is that the way people find the content they want to watch has to be simplified for tv viewers. it means that networks  in us terms  or channels could take a leaf out of google s book and be the search engine of the future  instead of the scheduler to help people find what they want to watch. this kind of channel model might work for the younger ipod generation which is used to taking control of their gadgets and what they play on them. but it might not suit everyone  the panel recognised. older generations are more comfortable with familiar schedules and channel brands because they know what they are getting. they perhaps do not want so much of the choice put into their hands  mr hanlon suggested.  on the other end  you have the kids just out of diapers who are pushing buttons already - everything is possible and available to them   said mr hanlon.  ultimately  the consumer will tell the market they want.   of the 50 000 new gadgets and technologies being showcased at ces  many of them are about enhancing the tv-watching experience. high-definition tv sets are everywhere and many new models of lcd (liquid crystal display) tvs have been launched with dvr capability built into them  instead of being external boxes. one such example launched at the show is humax s 26-inch lcd tv with an 80-hour tivo dvr and dvd recorder. one of the us s biggest satellite tv companies  directtv  has even launched its own branded dvr at the show with 100-hours of recording capability  instant replay  and a search function. the set can pause and rewind tv for up to 90 hours. and microsoft chief bill gates announced in his pre-show keynote speech a partnership with tivo  called tivotogo  which means people can play recorded programmes on windows pcs and mobile devices. all these reflect the increasing trend of freeing up multimedia so that people can watch what they want  when they want.\n",
            "\n"
          ]
        }
      ]
    },
    {
      "cell_type": "code",
      "source": [
        "df = pd.read_csv('bbc-text.csv')\n",
        "print(df.shape)\n",
        "df.head()"
      ],
      "metadata": {
        "colab": {
          "base_uri": "https://localhost:8080/",
          "height": 223
        },
        "id": "DTvDijDtFQHu",
        "outputId": "2b810af2-b581-43bc-d1a9-714a2909435a"
      },
      "execution_count": 8,
      "outputs": [
        {
          "output_type": "stream",
          "name": "stdout",
          "text": [
            "(2225, 2)\n"
          ]
        },
        {
          "output_type": "execute_result",
          "data": {
            "text/plain": [
              "        category                                               text\n",
              "0           tech  tv future in the hands of viewers with home th...\n",
              "1       business  worldcom boss  left books alone  former worldc...\n",
              "2          sport  tigers wary of farrell  gamble  leicester say ...\n",
              "3          sport  yeading face newcastle in fa cup premiership s...\n",
              "4  entertainment  ocean s twelve raids box office ocean s twelve..."
            ],
            "text/html": [
              "\n",
              "  <div id=\"df-031b8031-bc26-4986-9e1e-425e7dd80812\">\n",
              "    <div class=\"colab-df-container\">\n",
              "      <div>\n",
              "<style scoped>\n",
              "    .dataframe tbody tr th:only-of-type {\n",
              "        vertical-align: middle;\n",
              "    }\n",
              "\n",
              "    .dataframe tbody tr th {\n",
              "        vertical-align: top;\n",
              "    }\n",
              "\n",
              "    .dataframe thead th {\n",
              "        text-align: right;\n",
              "    }\n",
              "</style>\n",
              "<table border=\"1\" class=\"dataframe\">\n",
              "  <thead>\n",
              "    <tr style=\"text-align: right;\">\n",
              "      <th></th>\n",
              "      <th>category</th>\n",
              "      <th>text</th>\n",
              "    </tr>\n",
              "  </thead>\n",
              "  <tbody>\n",
              "    <tr>\n",
              "      <th>0</th>\n",
              "      <td>tech</td>\n",
              "      <td>tv future in the hands of viewers with home th...</td>\n",
              "    </tr>\n",
              "    <tr>\n",
              "      <th>1</th>\n",
              "      <td>business</td>\n",
              "      <td>worldcom boss  left books alone  former worldc...</td>\n",
              "    </tr>\n",
              "    <tr>\n",
              "      <th>2</th>\n",
              "      <td>sport</td>\n",
              "      <td>tigers wary of farrell  gamble  leicester say ...</td>\n",
              "    </tr>\n",
              "    <tr>\n",
              "      <th>3</th>\n",
              "      <td>sport</td>\n",
              "      <td>yeading face newcastle in fa cup premiership s...</td>\n",
              "    </tr>\n",
              "    <tr>\n",
              "      <th>4</th>\n",
              "      <td>entertainment</td>\n",
              "      <td>ocean s twelve raids box office ocean s twelve...</td>\n",
              "    </tr>\n",
              "  </tbody>\n",
              "</table>\n",
              "</div>\n",
              "      <button class=\"colab-df-convert\" onclick=\"convertToInteractive('df-031b8031-bc26-4986-9e1e-425e7dd80812')\"\n",
              "              title=\"Convert this dataframe to an interactive table.\"\n",
              "              style=\"display:none;\">\n",
              "        \n",
              "  <svg xmlns=\"http://www.w3.org/2000/svg\" height=\"24px\"viewBox=\"0 0 24 24\"\n",
              "       width=\"24px\">\n",
              "    <path d=\"M0 0h24v24H0V0z\" fill=\"none\"/>\n",
              "    <path d=\"M18.56 5.44l.94 2.06.94-2.06 2.06-.94-2.06-.94-.94-2.06-.94 2.06-2.06.94zm-11 1L8.5 8.5l.94-2.06 2.06-.94-2.06-.94L8.5 2.5l-.94 2.06-2.06.94zm10 10l.94 2.06.94-2.06 2.06-.94-2.06-.94-.94-2.06-.94 2.06-2.06.94z\"/><path d=\"M17.41 7.96l-1.37-1.37c-.4-.4-.92-.59-1.43-.59-.52 0-1.04.2-1.43.59L10.3 9.45l-7.72 7.72c-.78.78-.78 2.05 0 2.83L4 21.41c.39.39.9.59 1.41.59.51 0 1.02-.2 1.41-.59l7.78-7.78 2.81-2.81c.8-.78.8-2.07 0-2.86zM5.41 20L4 18.59l7.72-7.72 1.47 1.35L5.41 20z\"/>\n",
              "  </svg>\n",
              "      </button>\n",
              "      \n",
              "  <style>\n",
              "    .colab-df-container {\n",
              "      display:flex;\n",
              "      flex-wrap:wrap;\n",
              "      gap: 12px;\n",
              "    }\n",
              "\n",
              "    .colab-df-convert {\n",
              "      background-color: #E8F0FE;\n",
              "      border: none;\n",
              "      border-radius: 50%;\n",
              "      cursor: pointer;\n",
              "      display: none;\n",
              "      fill: #1967D2;\n",
              "      height: 32px;\n",
              "      padding: 0 0 0 0;\n",
              "      width: 32px;\n",
              "    }\n",
              "\n",
              "    .colab-df-convert:hover {\n",
              "      background-color: #E2EBFA;\n",
              "      box-shadow: 0px 1px 2px rgba(60, 64, 67, 0.3), 0px 1px 3px 1px rgba(60, 64, 67, 0.15);\n",
              "      fill: #174EA6;\n",
              "    }\n",
              "\n",
              "    [theme=dark] .colab-df-convert {\n",
              "      background-color: #3B4455;\n",
              "      fill: #D2E3FC;\n",
              "    }\n",
              "\n",
              "    [theme=dark] .colab-df-convert:hover {\n",
              "      background-color: #434B5C;\n",
              "      box-shadow: 0px 1px 3px 1px rgba(0, 0, 0, 0.15);\n",
              "      filter: drop-shadow(0px 1px 2px rgba(0, 0, 0, 0.3));\n",
              "      fill: #FFFFFF;\n",
              "    }\n",
              "  </style>\n",
              "\n",
              "      <script>\n",
              "        const buttonEl =\n",
              "          document.querySelector('#df-031b8031-bc26-4986-9e1e-425e7dd80812 button.colab-df-convert');\n",
              "        buttonEl.style.display =\n",
              "          google.colab.kernel.accessAllowed ? 'block' : 'none';\n",
              "\n",
              "        async function convertToInteractive(key) {\n",
              "          const element = document.querySelector('#df-031b8031-bc26-4986-9e1e-425e7dd80812');\n",
              "          const dataTable =\n",
              "            await google.colab.kernel.invokeFunction('convertToInteractive',\n",
              "                                                     [key], {});\n",
              "          if (!dataTable) return;\n",
              "\n",
              "          const docLinkHtml = 'Like what you see? Visit the ' +\n",
              "            '<a target=\"_blank\" href=https://colab.research.google.com/notebooks/data_table.ipynb>data table notebook</a>'\n",
              "            + ' to learn more about interactive tables.';\n",
              "          element.innerHTML = '';\n",
              "          dataTable['output_type'] = 'display_data';\n",
              "          await google.colab.output.renderOutput(dataTable, element);\n",
              "          const docLink = document.createElement('div');\n",
              "          docLink.innerHTML = docLinkHtml;\n",
              "          element.appendChild(docLink);\n",
              "        }\n",
              "      </script>\n",
              "    </div>\n",
              "  </div>\n",
              "  "
            ]
          },
          "metadata": {},
          "execution_count": 8
        }
      ]
    },
    {
      "cell_type": "code",
      "source": [
        "# Parameter\n",
        "NUM_WORDS = 1000\n",
        "EMBEDDING_DIM = 16\n",
        "MAXLEN = 120\n",
        "PADDING = 'post'\n",
        "OOV_TOKEN = \"<OOV>\"\n",
        "TRAINING_SPLIT = .8"
      ],
      "metadata": {
        "id": "nkKC295SFdRx"
      },
      "execution_count": 9,
      "outputs": []
    },
    {
      "cell_type": "code",
      "source": [
        "# grader-required-cell\n",
        "\n",
        "def remove_stopwords(sentence):\n",
        "    \"\"\"\n",
        "    Removes a list of stopwords\n",
        "\n",
        "    Args:\n",
        "        sentence (string): sentence to remove the stopwords from\n",
        "\n",
        "    Returns:\n",
        "        sentence (string): lowercase sentence without the stopwords\n",
        "    \"\"\"\n",
        "    # List of stopwords\n",
        "    stopwords = [\"a\", \"about\", \"above\", \"after\", \"again\", \"against\", \"all\", \"am\", \"an\", \"and\", \"any\", \"are\", \"as\", \"at\", \"be\", \"because\", \"been\", \"before\", \"being\", \"below\", \"between\", \"both\", \"but\", \"by\", \"could\", \"did\", \"do\", \"does\", \"doing\", \"down\", \"during\", \"each\", \"few\", \"for\", \"from\", \"further\", \"had\", \"has\", \"have\", \"having\", \"he\", \"he'd\", \"he'll\", \"he's\", \"her\", \"here\", \"here's\", \"hers\", \"herself\", \"him\", \"himself\", \"his\", \"how\", \"how's\", \"i\", \"i'd\", \"i'll\", \"i'm\", \"i've\", \"if\", \"in\", \"into\", \"is\", \"it\", \"it's\", \"its\", \"itself\", \"let's\", \"me\", \"more\", \"most\", \"my\", \"myself\", \"nor\", \"of\", \"on\", \"once\", \"only\", \"or\", \"other\", \"ought\", \"our\", \"ours\", \"ourselves\", \"out\", \"over\", \"own\", \"same\", \"she\", \"she'd\", \"she'll\", \"she's\", \"should\", \"so\", \"some\", \"such\", \"than\", \"that\", \"that's\", \"the\", \"their\", \"theirs\", \"them\", \"themselves\", \"then\", \"there\", \"there's\", \"these\", \"they\", \"they'd\", \"they'll\", \"they're\", \"they've\", \"this\", \"those\", \"through\", \"to\", \"too\", \"under\", \"until\", \"up\", \"very\", \"was\", \"we\", \"we'd\", \"we'll\", \"we're\", \"we've\", \"were\", \"what\", \"what's\", \"when\", \"when's\", \"where\", \"where's\", \"which\", \"while\", \"who\", \"who's\", \"whom\", \"why\", \"why's\", \"with\", \"would\", \"you\", \"you'd\", \"you'll\", \"you're\", \"you've\", \"your\", \"yours\", \"yourself\", \"yourselves\" ]\n",
        "\n",
        "    # Sentence converted to lowercase-only\n",
        "    sentence = sentence.lower()\n",
        "\n",
        "    words = sentence.split()\n",
        "    no_words = [w for w in words if w not in stopwords]\n",
        "    sentence = \" \".join(no_words)\n",
        "\n",
        "    return sentence\n",
        "\n",
        "\n",
        "def parse_data_from_file(filename):\n",
        "    \"\"\"\n",
        "    Extracts sentences and labels from a CSV file\n",
        "\n",
        "    Args:\n",
        "        filename (string): path to the CSV file\n",
        "\n",
        "    Returns:\n",
        "        sentences, labels (list of string, list of string): tuple containing lists of sentences and labels\n",
        "    \"\"\"\n",
        "    sentences = []\n",
        "    labels = []\n",
        "    with open(filename, 'r') as csvfile:\n",
        "        reader = csv.reader(csvfile, delimiter=',')\n",
        "        next(reader)\n",
        "        for row in reader:\n",
        "            labels.append(row[0])\n",
        "            # sentence = row[1]\n",
        "            # sentence = remove_stopwords(sentence)\n",
        "            # sentences.append(sentence)\n",
        "            sentences.append(remove_stopwords(row[1]))\n",
        "\n",
        "    return sentences, labels"
      ],
      "metadata": {
        "id": "GJJ3t9v7FsH-"
      },
      "execution_count": 54,
      "outputs": []
    },
    {
      "cell_type": "code",
      "source": [
        "sentences, labels = parse_data_from_file('bbc-text.csv')\n",
        "print(len(sentences))\n",
        "print(len(sentences[0].split()))\n",
        "print(len(labels))\n",
        "print(int(len(sentences)*TRAINING_SPLIT))"
      ],
      "metadata": {
        "colab": {
          "base_uri": "https://localhost:8080/"
        },
        "id": "y9c24YDeHLOM",
        "outputId": "b2b16231-dce5-4d9c-8e40-da9449ef1d98"
      },
      "execution_count": 55,
      "outputs": [
        {
          "output_type": "stream",
          "name": "stdout",
          "text": [
            "2225\n",
            "436\n",
            "2225\n",
            "1780\n"
          ]
        }
      ]
    },
    {
      "cell_type": "code",
      "source": [
        "def train_val_split(sentences, labels, training_split):\n",
        "  train_size = int(len(sentences)*TRAINING_SPLIT)\n",
        "\n",
        "  training_sentences = sentences[:train_size]\n",
        "  training_labels = labels[:train_size]\n",
        "\n",
        "  validation_sentences = sentences[train_size:]\n",
        "  validation_labels = labels[train_size:]\n",
        "\n",
        "  return training_sentences, validation_sentences, training_labels, validation_labels"
      ],
      "metadata": {
        "id": "F1lfzjhpHgih"
      },
      "execution_count": 56,
      "outputs": []
    },
    {
      "cell_type": "code",
      "source": [
        "training_sentences, validation_sentences, training_labels, validation_labels = train_val_split(sentences, labels, TRAINING_SPLIT)\n",
        "print(len(training_sentences))\n",
        "print(len(validation_sentences))\n",
        "print(len(training_labels))\n",
        "print(len(validation_labels))"
      ],
      "metadata": {
        "colab": {
          "base_uri": "https://localhost:8080/"
        },
        "id": "jVFPkSQtIfGb",
        "outputId": "ab296e37-e5fd-4fa1-c81d-ace6b5ef2ea3"
      },
      "execution_count": 57,
      "outputs": [
        {
          "output_type": "stream",
          "name": "stdout",
          "text": [
            "1780\n",
            "445\n",
            "1780\n",
            "445\n"
          ]
        }
      ]
    },
    {
      "cell_type": "code",
      "source": [
        "# grader-required-cell\n",
        "\n",
        "# GRADED FUNCTION: fit_tokenizer\n",
        "def fit_tokenizer(train_sentences, num_words, oov_token):\n",
        "    \"\"\"\n",
        "    Instantiates the Tokenizer class on the training sentences\n",
        "\n",
        "    Args:\n",
        "        train_sentences (list of string): lower-cased sentences without stopwords to be used for training\n",
        "        num_words (int) - number of words to keep when tokenizing\n",
        "        oov_token (string) - symbol for the out-of-vocabulary token\n",
        "\n",
        "    Returns:\n",
        "        tokenizer (object): an instance of the Tokenizer class containing the word-index dictionary\n",
        "    \"\"\"\n",
        "\n",
        "    ### START CODE HERE\n",
        "\n",
        "    # Instantiate the Tokenizer class, passing in the correct values for num_words and oov_token\n",
        "    tokenizer = Tokenizer(num_words=num_words, oov_token=oov_token)\n",
        "\n",
        "    # Fit the tokenizer to the training sentences\n",
        "    tokenizer.fit_on_texts(train_sentences)\n",
        "\n",
        "    ### END CODE HERE\n",
        "\n",
        "    return tokenizer"
      ],
      "metadata": {
        "id": "4EwjVLA9Iygg"
      },
      "execution_count": 35,
      "outputs": []
    },
    {
      "cell_type": "code",
      "source": [
        "# Test your function\n",
        "tokenizer = fit_tokenizer(training_sentences, NUM_WORDS, OOV_TOKEN)\n",
        "word_index = tokenizer.word_index\n",
        "\n",
        "print(f\"Vocabulary contains {len(word_index)} words\\n\")\n",
        "print(\"<OOV> token included in vocabulary\" if \"<OOV>\" in word_index else \"<OOV> token NOT included in vocabulary\")"
      ],
      "metadata": {
        "colab": {
          "base_uri": "https://localhost:8080/"
        },
        "id": "vz-19c9fJe4r",
        "outputId": "3c7b7dea-b407-4d0c-8016-e7831957da0b"
      },
      "execution_count": 58,
      "outputs": [
        {
          "output_type": "stream",
          "name": "stdout",
          "text": [
            "Vocabulary contains 27285 words\n",
            "\n",
            "<OOV> token included in vocabulary\n"
          ]
        }
      ]
    },
    {
      "cell_type": "code",
      "source": [
        "def seq_pad(sentence, tokenizer, padding, maxlen):\n",
        "  sequences = tokenizer.texts_to_sequences(sentence)\n",
        "  padded = pad_sequences(sequences, maxlen=maxlen, padding=padding )\n",
        "\n",
        "  return padded"
      ],
      "metadata": {
        "id": "CJd4IlKeJyCn"
      },
      "execution_count": 39,
      "outputs": []
    },
    {
      "cell_type": "code",
      "source": [
        "train_padded_seq = seq_pad(training_sentences, tokenizer, PADDING, MAXLEN)\n",
        "val_padded_seq = seq_pad(validation_sentences, tokenizer, PADDING, MAXLEN)\n",
        "\n",
        "print(f'ukuran train padded seq {train_padded_seq.shape}')\n",
        "print(f'ukuran val padded seq {val_padded_seq.shape}')"
      ],
      "metadata": {
        "colab": {
          "base_uri": "https://localhost:8080/"
        },
        "id": "5KwBjXXSLW51",
        "outputId": "9d4b2312-33c6-4a40-8086-991403f7b712"
      },
      "execution_count": 41,
      "outputs": [
        {
          "output_type": "stream",
          "name": "stdout",
          "text": [
            "ukuran train padded seq (1780, 120)\n",
            "ukuran val padded seq (445, 120)\n"
          ]
        }
      ]
    },
    {
      "cell_type": "code",
      "source": [
        "def tokenize_labels(all_labels, split_labels):\n",
        "  label_tokenizer = Tokenizer()\n",
        "  label_tokenizer.fit_on_texts(all_labels)\n",
        "\n",
        "  label_seq = label_tokenizer.texts_to_sequences(split_labels)\n",
        "  label_seq_np = np.array(label_seq)-1\n",
        "\n",
        "  return label_seq_np"
      ],
      "metadata": {
        "id": "-2MMFwNbL2e4"
      },
      "execution_count": 42,
      "outputs": []
    },
    {
      "cell_type": "code",
      "source": [
        "train_label_seq = tokenize_labels(labels, training_labels)\n",
        "val_label_seq = tokenize_labels(labels, validation_labels)"
      ],
      "metadata": {
        "id": "2MyPYxN-MY-T"
      },
      "execution_count": 43,
      "outputs": []
    },
    {
      "cell_type": "code",
      "source": [
        "print(train_label_seq.shape)\n",
        "print(val_label_seq.shape)"
      ],
      "metadata": {
        "colab": {
          "base_uri": "https://localhost:8080/"
        },
        "id": "Vp2ao7wUMxRB",
        "outputId": "88abb441-7ed8-4343-b243-b8d4b296c821"
      },
      "execution_count": 44,
      "outputs": [
        {
          "output_type": "stream",
          "name": "stdout",
          "text": [
            "(1780, 1)\n",
            "(445, 1)\n"
          ]
        }
      ]
    },
    {
      "cell_type": "code",
      "source": [
        "def create_model(num_words, embedding_dim, maxlen):\n",
        "  tf.random.set_seed(123)\n",
        "\n",
        "  model = tf.keras.Sequential([\n",
        "      tf.keras.layers.Embedding(num_words, embedding_dim, input_length=maxlen),\n",
        "      tf.keras.layers.GlobalAveragePooling1D(),\n",
        "      tf.keras.layers.Dense(24, activation='relu'),\n",
        "      tf.keras.layers.Dense(5, activation='softmax')\n",
        "  ])\n",
        "\n",
        "  model.compile(loss='sparse_categorical_crossentropy', optimizer='adam', metrics=['accuracy'])\n",
        "\n",
        "  return model"
      ],
      "metadata": {
        "id": "AeVYmm5TM3KM"
      },
      "execution_count": 45,
      "outputs": []
    },
    {
      "cell_type": "code",
      "source": [
        "model = create_model(NUM_WORDS, EMBEDDING_DIM, MAXLEN)\n",
        "history = model.fit(train_padded_seq, train_label_seq, epochs=30, validation_data=(val_padded_seq, val_label_seq))"
      ],
      "metadata": {
        "colab": {
          "base_uri": "https://localhost:8080/"
        },
        "id": "COgy-KECN969",
        "outputId": "72ca5b19-4fa8-49b8-ae03-409bd2c8a925"
      },
      "execution_count": 47,
      "outputs": [
        {
          "output_type": "stream",
          "name": "stdout",
          "text": [
            "Epoch 1/30\n",
            "56/56 [==============================] - 1s 8ms/step - loss: 1.5998 - accuracy: 0.3045 - val_loss: 1.5844 - val_accuracy: 0.2876\n",
            "Epoch 2/30\n",
            "56/56 [==============================] - 0s 7ms/step - loss: 1.5568 - accuracy: 0.3669 - val_loss: 1.5219 - val_accuracy: 0.4809\n",
            "Epoch 3/30\n",
            "56/56 [==============================] - 0s 7ms/step - loss: 1.4557 - accuracy: 0.5865 - val_loss: 1.3920 - val_accuracy: 0.6854\n",
            "Epoch 4/30\n",
            "56/56 [==============================] - 0s 7ms/step - loss: 1.2774 - accuracy: 0.7556 - val_loss: 1.1990 - val_accuracy: 0.8000\n",
            "Epoch 5/30\n",
            "56/56 [==============================] - 0s 7ms/step - loss: 1.0547 - accuracy: 0.8438 - val_loss: 0.9893 - val_accuracy: 0.8382\n",
            "Epoch 6/30\n",
            "56/56 [==============================] - 0s 7ms/step - loss: 0.8357 - accuracy: 0.9028 - val_loss: 0.8029 - val_accuracy: 0.8674\n",
            "Epoch 7/30\n",
            "56/56 [==============================] - 0s 6ms/step - loss: 0.6486 - accuracy: 0.9219 - val_loss: 0.6477 - val_accuracy: 0.8831\n",
            "Epoch 8/30\n",
            "56/56 [==============================] - 0s 7ms/step - loss: 0.5029 - accuracy: 0.9354 - val_loss: 0.5340 - val_accuracy: 0.8764\n",
            "Epoch 9/30\n",
            "56/56 [==============================] - 0s 5ms/step - loss: 0.3956 - accuracy: 0.9421 - val_loss: 0.4509 - val_accuracy: 0.9056\n",
            "Epoch 10/30\n",
            "56/56 [==============================] - 0s 5ms/step - loss: 0.3160 - accuracy: 0.9584 - val_loss: 0.3879 - val_accuracy: 0.9124\n",
            "Epoch 11/30\n",
            "56/56 [==============================] - 0s 4ms/step - loss: 0.2574 - accuracy: 0.9669 - val_loss: 0.3429 - val_accuracy: 0.9146\n",
            "Epoch 12/30\n",
            "56/56 [==============================] - 0s 5ms/step - loss: 0.2118 - accuracy: 0.9702 - val_loss: 0.3119 - val_accuracy: 0.9169\n",
            "Epoch 13/30\n",
            "56/56 [==============================] - 0s 5ms/step - loss: 0.1781 - accuracy: 0.9742 - val_loss: 0.2904 - val_accuracy: 0.9213\n",
            "Epoch 14/30\n",
            "56/56 [==============================] - 0s 4ms/step - loss: 0.1519 - accuracy: 0.9747 - val_loss: 0.2731 - val_accuracy: 0.9191\n",
            "Epoch 15/30\n",
            "56/56 [==============================] - 0s 4ms/step - loss: 0.1308 - accuracy: 0.9798 - val_loss: 0.2593 - val_accuracy: 0.9169\n",
            "Epoch 16/30\n",
            "56/56 [==============================] - 0s 4ms/step - loss: 0.1136 - accuracy: 0.9843 - val_loss: 0.2471 - val_accuracy: 0.9213\n",
            "Epoch 17/30\n",
            "56/56 [==============================] - 0s 4ms/step - loss: 0.0994 - accuracy: 0.9860 - val_loss: 0.2389 - val_accuracy: 0.9281\n",
            "Epoch 18/30\n",
            "56/56 [==============================] - 0s 4ms/step - loss: 0.0878 - accuracy: 0.9865 - val_loss: 0.2365 - val_accuracy: 0.9258\n",
            "Epoch 19/30\n",
            "56/56 [==============================] - 0s 4ms/step - loss: 0.0781 - accuracy: 0.9899 - val_loss: 0.2282 - val_accuracy: 0.9326\n",
            "Epoch 20/30\n",
            "56/56 [==============================] - 0s 5ms/step - loss: 0.0686 - accuracy: 0.9933 - val_loss: 0.2235 - val_accuracy: 0.9303\n",
            "Epoch 21/30\n",
            "56/56 [==============================] - 0s 5ms/step - loss: 0.0614 - accuracy: 0.9938 - val_loss: 0.2238 - val_accuracy: 0.9303\n",
            "Epoch 22/30\n",
            "56/56 [==============================] - 0s 4ms/step - loss: 0.0545 - accuracy: 0.9944 - val_loss: 0.2216 - val_accuracy: 0.9326\n",
            "Epoch 23/30\n",
            "56/56 [==============================] - 0s 5ms/step - loss: 0.0492 - accuracy: 0.9983 - val_loss: 0.2197 - val_accuracy: 0.9326\n",
            "Epoch 24/30\n",
            "56/56 [==============================] - 0s 4ms/step - loss: 0.0440 - accuracy: 0.9983 - val_loss: 0.2163 - val_accuracy: 0.9371\n",
            "Epoch 25/30\n",
            "56/56 [==============================] - 0s 5ms/step - loss: 0.0398 - accuracy: 0.9978 - val_loss: 0.2163 - val_accuracy: 0.9348\n",
            "Epoch 26/30\n",
            "56/56 [==============================] - 0s 5ms/step - loss: 0.0352 - accuracy: 0.9989 - val_loss: 0.2150 - val_accuracy: 0.9348\n",
            "Epoch 27/30\n",
            "56/56 [==============================] - 0s 4ms/step - loss: 0.0318 - accuracy: 0.9989 - val_loss: 0.2166 - val_accuracy: 0.9326\n",
            "Epoch 28/30\n",
            "56/56 [==============================] - 0s 5ms/step - loss: 0.0289 - accuracy: 0.9989 - val_loss: 0.2141 - val_accuracy: 0.9348\n",
            "Epoch 29/30\n",
            "56/56 [==============================] - 0s 5ms/step - loss: 0.0261 - accuracy: 1.0000 - val_loss: 0.2167 - val_accuracy: 0.9348\n",
            "Epoch 30/30\n",
            "56/56 [==============================] - 0s 4ms/step - loss: 0.0237 - accuracy: 1.0000 - val_loss: 0.2128 - val_accuracy: 0.9371\n"
          ]
        }
      ]
    },
    {
      "cell_type": "code",
      "source": [
        "import matplotlib.pyplot as plt\n",
        "def plot_graph(history, metric):\n",
        "  plt.plot(history.history[metric])\n",
        "  plt.plot(history.history[f'val_{metric}'])\n",
        "  plt.xlabel(\"Epoch\")\n",
        "  plt.ylabel(metric)\n",
        "  plt.legend([metric, f'val_{metric}'])\n",
        "  plt.show()\n",
        "\n",
        "plot_graph(history, 'accuracy')\n",
        "plot_graph(history, 'loss')"
      ],
      "metadata": {
        "colab": {
          "base_uri": "https://localhost:8080/",
          "height": 881
        },
        "id": "5Xh9zWkPOSkt",
        "outputId": "6926f193-219e-4aaa-b384-17c2eaa068b1"
      },
      "execution_count": 49,
      "outputs": [
        {
          "output_type": "display_data",
          "data": {
            "text/plain": [
              "<Figure size 640x480 with 1 Axes>"
            ],
            "image/png": "[encoded data removed]"
          },
          "metadata": {}
        },
        {
          "output_type": "display_data",
          "data": {
            "text/plain": [
              "<Figure size 640x480 with 1 Axes>"
            ],
            "image/png": "[encoded data removed]"
          },
          "metadata": {}
        }
      ]
    },
    {
      "cell_type": "code",
      "source": [],
      "metadata": {
        "id": "6jO9zoPzPPcl"
      },
      "execution_count": null,
      "outputs": []
    }
  ]
}